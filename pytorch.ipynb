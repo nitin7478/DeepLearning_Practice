{
 "cells": [
  {
   "attachments": {},
   "cell_type": "markdown",
   "metadata": {},
   "source": [
    "# PyTorch"
   ]
  },
  {
   "attachments": {},
   "cell_type": "markdown",
   "metadata": {},
   "source": [
    "It is another library equivalent to tensorflow developed by facebook. It uses power of GPU. \n",
    "It is python based library. \n",
    "\n"
   ]
  },
  {
   "cell_type": "code",
   "execution_count": 107,
   "metadata": {},
   "outputs": [],
   "source": [
    "# installation instructions on https://pytorch.org/get-started/locally/\n",
    "\n",
    "from __future__ import print_function\n",
    "import torch.cuda"
   ]
  },
  {
   "cell_type": "code",
   "execution_count": 108,
   "metadata": {},
   "outputs": [
    {
     "data": {
      "text/plain": [
       "'2.0.1+cpu'"
      ]
     },
     "execution_count": 108,
     "metadata": {},
     "output_type": "execute_result"
    }
   ],
   "source": [
    "torch.__version__"
   ]
  },
  {
   "cell_type": "code",
   "execution_count": 109,
   "metadata": {},
   "outputs": [
    {
     "data": {
      "text/plain": [
       "False"
      ]
     },
     "execution_count": 109,
     "metadata": {},
     "output_type": "execute_result"
    }
   ],
   "source": [
    "torch.cuda.is_available()\n"
   ]
  },
  {
   "attachments": {},
   "cell_type": "markdown",
   "metadata": {},
   "source": [
    "### construct 6X3 matrix . uninitialized"
   ]
  },
  {
   "cell_type": "code",
   "execution_count": 49,
   "metadata": {},
   "outputs": [
    {
     "name": "stdout",
     "output_type": "stream",
     "text": [
      "tensor([[1.0194e-38, 9.9184e-39, 2.9389e-39],\n",
      "        [1.0194e-38, 2.9389e-39, 9.2755e-39],\n",
      "        [9.0918e-39, 1.0010e-38, 9.9184e-39],\n",
      "        [1.0653e-38, 9.1837e-39, 9.6428e-39],\n",
      "        [1.0010e-38, 9.1837e-39, 8.9082e-39],\n",
      "        [9.2755e-39, 1.1112e-38, 0.0000e+00]])\n"
     ]
    }
   ],
   "source": [
    "a = torch.empty(6,3)\n",
    "print(a)"
   ]
  },
  {
   "attachments": {},
   "cell_type": "markdown",
   "metadata": {},
   "source": [
    "### construct 6X3 random"
   ]
  },
  {
   "cell_type": "code",
   "execution_count": 50,
   "metadata": {},
   "outputs": [
    {
     "data": {
      "text/plain": [
       "tensor([[0.5148, 0.9054, 0.6871],\n",
       "        [0.1095, 0.9694, 0.2845],\n",
       "        [0.7305, 0.2005, 0.5813],\n",
       "        [0.1571, 0.8405, 0.8382]])"
      ]
     },
     "execution_count": 50,
     "metadata": {},
     "output_type": "execute_result"
    }
   ],
   "source": [
    "a = torch.rand(4,3)\n",
    "a"
   ]
  },
  {
   "attachments": {},
   "cell_type": "markdown",
   "metadata": {},
   "source": [
    "### Construct zeros matrix"
   ]
  },
  {
   "cell_type": "code",
   "execution_count": 51,
   "metadata": {},
   "outputs": [
    {
     "name": "stdout",
     "output_type": "stream",
     "text": [
      "tensor([[0, 0, 0],\n",
      "        [0, 0, 0],\n",
      "        [0, 0, 0],\n",
      "        [0, 0, 0]])\n"
     ]
    }
   ],
   "source": [
    "a = torch.zeros(4,3 , dtype = torch.long)\n",
    "print(a)"
   ]
  },
  {
   "attachments": {},
   "cell_type": "markdown",
   "metadata": {},
   "source": [
    "### construct a tensor with data :"
   ]
  },
  {
   "cell_type": "code",
   "execution_count": 52,
   "metadata": {},
   "outputs": [
    {
     "data": {
      "text/plain": [
       "tensor([7.8000, 5.0000])"
      ]
     },
     "execution_count": 52,
     "metadata": {},
     "output_type": "execute_result"
    }
   ],
   "source": [
    "a = torch.tensor([7.8 , 5]) # convert list into tensor\n",
    "a"
   ]
  },
  {
   "cell_type": "code",
   "execution_count": 53,
   "metadata": {},
   "outputs": [
    {
     "data": {
      "text/plain": [
       "torch.Tensor"
      ]
     },
     "execution_count": 53,
     "metadata": {},
     "output_type": "execute_result"
    }
   ],
   "source": [
    "type(a)"
   ]
  },
  {
   "cell_type": "code",
   "execution_count": 54,
   "metadata": {},
   "outputs": [
    {
     "data": {
      "text/plain": [
       "tensor([[1., 1., 1.],\n",
       "        [1., 1., 1.],\n",
       "        [1., 1., 1.],\n",
       "        [1., 1., 1.]])"
      ]
     },
     "execution_count": 54,
     "metadata": {},
     "output_type": "execute_result"
    }
   ],
   "source": [
    "torch.ones(4,3)"
   ]
  },
  {
   "cell_type": "code",
   "execution_count": 55,
   "metadata": {},
   "outputs": [
    {
     "data": {
      "text/plain": [
       "tensor([7.8000, 5.0000])"
      ]
     },
     "execution_count": 55,
     "metadata": {},
     "output_type": "execute_result"
    }
   ],
   "source": [
    "a"
   ]
  },
  {
   "cell_type": "code",
   "execution_count": 56,
   "metadata": {},
   "outputs": [
    {
     "data": {
      "text/plain": [
       "<function Tensor.new>"
      ]
     },
     "execution_count": 56,
     "metadata": {},
     "output_type": "execute_result"
    }
   ],
   "source": [
    "a.new"
   ]
  },
  {
   "cell_type": "code",
   "execution_count": 57,
   "metadata": {},
   "outputs": [
    {
     "data": {
      "text/plain": [
       "tensor([[1., 1., 1., 1., 1.],\n",
       "        [1., 1., 1., 1., 1.],\n",
       "        [1., 1., 1., 1., 1.],\n",
       "        [1., 1., 1., 1., 1.],\n",
       "        [1., 1., 1., 1., 1.],\n",
       "        [1., 1., 1., 1., 1.]], dtype=torch.float64)"
      ]
     },
     "execution_count": 57,
     "metadata": {},
     "output_type": "execute_result"
    }
   ],
   "source": [
    "a = a.new_ones(6,5, dtype = torch.double)\n",
    "a"
   ]
  },
  {
   "cell_type": "code",
   "execution_count": 58,
   "metadata": {},
   "outputs": [
    {
     "data": {
      "text/plain": [
       "tensor([[-7.3971e-01, -5.6214e-01, -2.7694e-01, -1.8342e+00,  2.4605e-01],\n",
       "        [ 4.8770e-01, -6.7844e-01, -1.5103e-01,  3.2183e-01,  1.3671e+00],\n",
       "        [ 3.5544e-02, -2.4397e+00, -4.6270e-01, -1.1070e+00, -2.1028e-01],\n",
       "        [ 1.2030e+00,  6.6189e-01,  6.1584e-01,  9.0320e-01,  8.2896e-01],\n",
       "        [-1.3572e+00, -1.3607e+00,  2.6322e-01,  2.9177e-01, -1.1347e-01],\n",
       "        [ 4.7198e-01, -1.0529e+00, -2.4265e-03, -3.6633e-01, -2.4381e-01]])"
      ]
     },
     "execution_count": 58,
     "metadata": {},
     "output_type": "execute_result"
    }
   ],
   "source": [
    "a = torch.randn_like(a, dtype = torch.float)\n",
    "a"
   ]
  },
  {
   "cell_type": "code",
   "execution_count": 59,
   "metadata": {},
   "outputs": [
    {
     "name": "stdout",
     "output_type": "stream",
     "text": [
      "torch.Size([6, 5])\n"
     ]
    }
   ],
   "source": [
    "print(a.size())"
   ]
  },
  {
   "attachments": {},
   "cell_type": "markdown",
   "metadata": {},
   "source": [
    "### Operations"
   ]
  },
  {
   "cell_type": "code",
   "execution_count": 60,
   "metadata": {},
   "outputs": [
    {
     "data": {
      "text/plain": [
       "tensor([[0.7748, 0.9323, 0.2364, 0.3406, 0.6178],\n",
       "        [0.8211, 0.8735, 0.8518, 0.4870, 0.1865],\n",
       "        [0.9125, 0.9134, 0.9884, 0.9301, 0.7459],\n",
       "        [0.6926, 0.0145, 0.2134, 0.9879, 0.4798],\n",
       "        [0.2806, 0.1460, 0.8235, 0.4077, 0.8807],\n",
       "        [0.8413, 0.3469, 0.8994, 0.2344, 0.0872]])"
      ]
     },
     "execution_count": 60,
     "metadata": {},
     "output_type": "execute_result"
    }
   ],
   "source": [
    "b = torch.rand(6, 5 )\n",
    "b\n"
   ]
  },
  {
   "cell_type": "code",
   "execution_count": 61,
   "metadata": {},
   "outputs": [
    {
     "name": "stdout",
     "output_type": "stream",
     "text": [
      "tensor([[ 0.0351,  0.3702, -0.0405, -1.4936,  0.8638],\n",
      "        [ 1.3088,  0.1950,  0.7008,  0.8089,  1.5535],\n",
      "        [ 0.9480, -1.5262,  0.5257, -0.1769,  0.5356],\n",
      "        [ 1.8956,  0.6764,  0.8292,  1.8911,  1.3087],\n",
      "        [-1.0765, -1.2147,  1.0868,  0.6994,  0.7672],\n",
      "        [ 1.3133, -0.7061,  0.8970, -0.1319, -0.1566]])\n"
     ]
    }
   ],
   "source": [
    "print(a+b)"
   ]
  },
  {
   "cell_type": "code",
   "execution_count": 62,
   "metadata": {},
   "outputs": [
    {
     "name": "stdout",
     "output_type": "stream",
     "text": [
      "tensor([[ 0.0351,  0.3702, -0.0405, -1.4936,  0.8638],\n",
      "        [ 1.3088,  0.1950,  0.7008,  0.8089,  1.5535],\n",
      "        [ 0.9480, -1.5262,  0.5257, -0.1769,  0.5356],\n",
      "        [ 1.8956,  0.6764,  0.8292,  1.8911,  1.3087],\n",
      "        [-1.0765, -1.2147,  1.0868,  0.6994,  0.7672],\n",
      "        [ 1.3133, -0.7061,  0.8970, -0.1319, -0.1566]])\n"
     ]
    }
   ],
   "source": [
    "print(torch.add(a,b))"
   ]
  },
  {
   "cell_type": "code",
   "execution_count": 63,
   "metadata": {},
   "outputs": [
    {
     "data": {
      "text/plain": [
       "tensor([[ 0.0351,  0.3702, -0.0405, -1.4936,  0.8638],\n",
       "        [ 1.3088,  0.1950,  0.7008,  0.8089,  1.5535],\n",
       "        [ 0.9480, -1.5262,  0.5257, -0.1769,  0.5356],\n",
       "        [ 1.8956,  0.6764,  0.8292,  1.8911,  1.3087],\n",
       "        [-1.0765, -1.2147,  1.0868,  0.6994,  0.7672],\n",
       "        [ 1.3133, -0.7061,  0.8970, -0.1319, -0.1566]])"
      ]
     },
     "execution_count": 63,
     "metadata": {},
     "output_type": "execute_result"
    }
   ],
   "source": [
    "results = torch.empty(6,5)\n",
    "results"
   ]
  },
  {
   "cell_type": "code",
   "execution_count": 64,
   "metadata": {},
   "outputs": [
    {
     "name": "stdout",
     "output_type": "stream",
     "text": [
      "tensor([[ 0.0351,  0.3702, -0.0405, -1.4936,  0.8638],\n",
      "        [ 1.3088,  0.1950,  0.7008,  0.8089,  1.5535],\n",
      "        [ 0.9480, -1.5262,  0.5257, -0.1769,  0.5356],\n",
      "        [ 1.8956,  0.6764,  0.8292,  1.8911,  1.3087],\n",
      "        [-1.0765, -1.2147,  1.0868,  0.6994,  0.7672],\n",
      "        [ 1.3133, -0.7061,  0.8970, -0.1319, -0.1566]])\n"
     ]
    }
   ],
   "source": [
    "torch.add(a, b , out = results)\n",
    "print(results)\n",
    "## map addition to results"
   ]
  },
  {
   "attachments": {},
   "cell_type": "markdown",
   "metadata": {},
   "source": [
    "###  : inplace"
   ]
  },
  {
   "cell_type": "code",
   "execution_count": 65,
   "metadata": {},
   "outputs": [
    {
     "data": {
      "text/plain": [
       "tensor([[ 0.0351,  0.3702, -0.0405, -1.4936,  0.8638],\n",
       "        [ 1.3088,  0.1950,  0.7008,  0.8089,  1.5535],\n",
       "        [ 0.9480, -1.5262,  0.5257, -0.1769,  0.5356],\n",
       "        [ 1.8956,  0.6764,  0.8292,  1.8911,  1.3087],\n",
       "        [-1.0765, -1.2147,  1.0868,  0.6994,  0.7672],\n",
       "        [ 1.3133, -0.7061,  0.8970, -0.1319, -0.1566]])"
      ]
     },
     "execution_count": 65,
     "metadata": {},
     "output_type": "execute_result"
    }
   ],
   "source": [
    "b+a"
   ]
  },
  {
   "cell_type": "code",
   "execution_count": 66,
   "metadata": {},
   "outputs": [
    {
     "data": {
      "text/plain": [
       "tensor([[ 0.0351,  0.3702, -0.0405, -1.4936,  0.8638],\n",
       "        [ 1.3088,  0.1950,  0.7008,  0.8089,  1.5535],\n",
       "        [ 0.9480, -1.5262,  0.5257, -0.1769,  0.5356],\n",
       "        [ 1.8956,  0.6764,  0.8292,  1.8911,  1.3087],\n",
       "        [-1.0765, -1.2147,  1.0868,  0.6994,  0.7672],\n",
       "        [ 1.3133, -0.7061,  0.8970, -0.1319, -0.1566]])"
      ]
     },
     "execution_count": 66,
     "metadata": {},
     "output_type": "execute_result"
    }
   ],
   "source": [
    "b.add_(a) # store the outome of b+a inside b just like b = b+a"
   ]
  },
  {
   "cell_type": "code",
   "execution_count": 67,
   "metadata": {},
   "outputs": [
    {
     "data": {
      "text/plain": [
       "tensor([[ 0.0351,  0.3702, -0.0405, -1.4936,  0.8638],\n",
       "        [ 1.3088,  0.1950,  0.7008,  0.8089,  1.5535],\n",
       "        [ 0.9480, -1.5262,  0.5257, -0.1769,  0.5356],\n",
       "        [ 1.8956,  0.6764,  0.8292,  1.8911,  1.3087],\n",
       "        [-1.0765, -1.2147,  1.0868,  0.6994,  0.7672],\n",
       "        [ 1.3133, -0.7061,  0.8970, -0.1319, -0.1566]])"
      ]
     },
     "execution_count": 67,
     "metadata": {},
     "output_type": "execute_result"
    }
   ],
   "source": [
    "b"
   ]
  },
  {
   "cell_type": "code",
   "execution_count": 68,
   "metadata": {},
   "outputs": [
    {
     "data": {
      "text/plain": [
       "tensor([[-7.3971e-01, -5.6214e-01, -2.7694e-01, -1.8342e+00,  2.4605e-01],\n",
       "        [ 4.8770e-01, -6.7844e-01, -1.5103e-01,  3.2183e-01,  1.3671e+00],\n",
       "        [ 3.5544e-02, -2.4397e+00, -4.6270e-01, -1.1070e+00, -2.1028e-01],\n",
       "        [ 1.2030e+00,  6.6189e-01,  6.1584e-01,  9.0320e-01,  8.2896e-01],\n",
       "        [-1.3572e+00, -1.3607e+00,  2.6322e-01,  2.9177e-01, -1.1347e-01],\n",
       "        [ 4.7198e-01, -1.0529e+00, -2.4265e-03, -3.6633e-01, -2.4381e-01]])"
      ]
     },
     "execution_count": 68,
     "metadata": {},
     "output_type": "execute_result"
    }
   ],
   "source": [
    "a"
   ]
  },
  {
   "cell_type": "code",
   "execution_count": 69,
   "metadata": {},
   "outputs": [
    {
     "data": {
      "text/plain": [
       "tensor([-0.7397, -0.5621, -0.2769, -1.8342,  0.2460])"
      ]
     },
     "execution_count": 69,
     "metadata": {},
     "output_type": "execute_result"
    }
   ],
   "source": [
    "a[0]"
   ]
  },
  {
   "cell_type": "code",
   "execution_count": 70,
   "metadata": {},
   "outputs": [
    {
     "data": {
      "text/plain": [
       "tensor(-0.5621)"
      ]
     },
     "execution_count": 70,
     "metadata": {},
     "output_type": "execute_result"
    }
   ],
   "source": [
    "a[0][1]"
   ]
  },
  {
   "cell_type": "code",
   "execution_count": 72,
   "metadata": {},
   "outputs": [
    {
     "data": {
      "text/plain": [
       "tensor([ 0.2460,  1.3671, -0.2103,  0.8290, -0.1135, -0.2438])"
      ]
     },
     "execution_count": 72,
     "metadata": {},
     "output_type": "execute_result"
    }
   ],
   "source": [
    "a[: , 4] # all rows and 5th column"
   ]
  },
  {
   "attachments": {},
   "cell_type": "markdown",
   "metadata": {},
   "source": [
    "### resizing : we can resize or reshape tensor , use tensnor.view for that"
   ]
  },
  {
   "cell_type": "code",
   "execution_count": 74,
   "metadata": {},
   "outputs": [
    {
     "data": {
      "text/plain": [
       "tensor([[-1.1811, -0.3263, -2.2102],\n",
       "        [-0.9338, -0.0875,  0.4582],\n",
       "        [ 0.7208, -0.5437,  0.4146]])"
      ]
     },
     "execution_count": 74,
     "metadata": {},
     "output_type": "execute_result"
    }
   ],
   "source": [
    "a = torch.randn(3,3)\n",
    "a"
   ]
  },
  {
   "cell_type": "code",
   "execution_count": 79,
   "metadata": {},
   "outputs": [
    {
     "data": {
      "text/plain": [
       "tensor([-1.1811, -0.3263, -2.2102, -0.9338, -0.0875,  0.4582,  0.7208, -0.5437,\n",
       "         0.4146])"
      ]
     },
     "execution_count": 79,
     "metadata": {},
     "output_type": "execute_result"
    }
   ],
   "source": [
    "b=a.view(9) # view data in particular shape\n",
    "b"
   ]
  },
  {
   "cell_type": "code",
   "execution_count": 80,
   "metadata": {},
   "outputs": [
    {
     "data": {
      "text/plain": [
       "tensor([[-1.1811, -0.3263, -2.2102, -0.9338, -0.0875,  0.4582,  0.7208, -0.5437,\n",
       "          0.4146]])"
      ]
     },
     "execution_count": 80,
     "metadata": {},
     "output_type": "execute_result"
    }
   ],
   "source": [
    "c = a.view(-1, 9) # the size -1 is inferred from other dimensions\n",
    "c"
   ]
  },
  {
   "cell_type": "code",
   "execution_count": 81,
   "metadata": {},
   "outputs": [
    {
     "name": "stdout",
     "output_type": "stream",
     "text": [
      "torch.Size([3, 3]) torch.Size([9]) torch.Size([1, 9])\n"
     ]
    }
   ],
   "source": [
    "print(a.size(), b.size(), c.size())"
   ]
  },
  {
   "attachments": {},
   "cell_type": "markdown",
   "metadata": {},
   "source": [
    "### Converting torch tensor to Numpy array"
   ]
  },
  {
   "cell_type": "code",
   "execution_count": 83,
   "metadata": {},
   "outputs": [
    {
     "data": {
      "text/plain": [
       "tensor([1., 1., 1., 1.])"
      ]
     },
     "execution_count": 83,
     "metadata": {},
     "output_type": "execute_result"
    }
   ],
   "source": [
    "x = torch.ones(4)\n",
    "x"
   ]
  },
  {
   "cell_type": "code",
   "execution_count": 85,
   "metadata": {},
   "outputs": [
    {
     "data": {
      "text/plain": [
       "array([1., 1., 1., 1.], dtype=float32)"
      ]
     },
     "execution_count": 85,
     "metadata": {},
     "output_type": "execute_result"
    }
   ],
   "source": [
    "y = x.numpy()\n",
    "y"
   ]
  },
  {
   "attachments": {},
   "cell_type": "markdown",
   "metadata": {},
   "source": [
    "#### See how numpy array changed value"
   ]
  },
  {
   "cell_type": "code",
   "execution_count": 86,
   "metadata": {},
   "outputs": [
    {
     "name": "stdout",
     "output_type": "stream",
     "text": [
      "tensor([2., 2., 2., 2.])\n",
      "[2. 2. 2. 2.]\n"
     ]
    }
   ],
   "source": [
    "x.add_(1)\n",
    "print(x)\n",
    "print(y)"
   ]
  },
  {
   "attachments": {},
   "cell_type": "markdown",
   "metadata": {},
   "source": [
    "### Converting Numpy array to Torch tensor"
   ]
  },
  {
   "cell_type": "code",
   "execution_count": 90,
   "metadata": {},
   "outputs": [
    {
     "name": "stdout",
     "output_type": "stream",
     "text": [
      "[2. 2. 2. 2.]\n",
      "tensor([2., 2., 2., 2.], dtype=torch.float64)\n"
     ]
    }
   ],
   "source": [
    "import numpy as np\n",
    "f = np.ones(4)\n",
    "g = torch.from_numpy(f)\n",
    "np.add(f, 1 , out=f)\n",
    "print(f)\n",
    "print(g)"
   ]
  },
  {
   "attachments": {},
   "cell_type": "markdown",
   "metadata": {},
   "source": [
    "## CUDA Tensors\n",
    "Tensor can be moved onto any device using the .to method"
   ]
  },
  {
   "cell_type": "code",
   "execution_count": 94,
   "metadata": {},
   "outputs": [],
   "source": [
    "# Let us run this cell only if CUDA is available\n",
    "# WE will use 'torch.device' objects to move tensors in and out of GPU\n",
    "\n",
    "\n",
    "if torch.cuda.is_available():\n",
    "    device = torch.device(\"cuda\")\n",
    "    y = torch.ones_like(x, device  =device)\n",
    "    x = x.to(device)\n",
    "    z = x+y\n",
    "    print(z)\n",
    "    print(z.to(\"cpu\", torch.double))"
   ]
  },
  {
   "attachments": {},
   "cell_type": "markdown",
   "metadata": {},
   "source": [
    "## Automatic Differentiation"
   ]
  },
  {
   "attachments": {},
   "cell_type": "markdown",
   "metadata": {},
   "source": [
    "Definition :\n",
    "This class is an engine to calculate derivatives. It records the graph of all the operations perfomed on a gradient enabled tensor and creates a acyclic graph called the dynamic computational graph (DCG). The leaves of this graph are input tensors and the root are output tensors. Gradients are calculated by tracing graph from the root to the leaf and multiplying every gradient in the way using chain rule. "
   ]
  },
  {
   "cell_type": "code",
   "execution_count": null,
   "metadata": {},
   "outputs": [],
   "source": []
  },
  {
   "attachments": {},
   "cell_type": "markdown",
   "metadata": {},
   "source": []
  },
  {
   "cell_type": "code",
   "execution_count": null,
   "metadata": {},
   "outputs": [],
   "source": []
  }
 ],
 "metadata": {
  "kernelspec": {
   "display_name": "dl_practice",
   "language": "python",
   "name": "python3"
  },
  "language_info": {
   "codemirror_mode": {
    "name": "ipython",
    "version": 3
   },
   "file_extension": ".py",
   "mimetype": "text/x-python",
   "name": "python",
   "nbconvert_exporter": "python",
   "pygments_lexer": "ipython3",
   "version": "3.11.3"
  },
  "orig_nbformat": 4
 },
 "nbformat": 4,
 "nbformat_minor": 2
}
